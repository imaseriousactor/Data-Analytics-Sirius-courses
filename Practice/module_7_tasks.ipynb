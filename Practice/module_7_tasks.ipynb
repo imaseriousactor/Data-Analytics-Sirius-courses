{
 "cells": [
  {
   "cell_type": "code",
   "execution_count": 4,
   "id": "9d594175",
   "metadata": {},
   "outputs": [],
   "source": [
    "import pandas as pd"
   ]
  },
  {
   "cell_type": "code",
   "execution_count": 5,
   "id": "d438206c",
   "metadata": {},
   "outputs": [],
   "source": [
    "user = pd.read_csv('user.csv')"
   ]
  },
  {
   "cell_type": "code",
   "execution_count": 57,
   "id": "ef9d5731",
   "metadata": {},
   "outputs": [],
   "source": [
    "user_session = pd.read_csv('user_session.csv')\n",
    "user['last_visited'] = pd.to_datetime(user['last_visited'])\n",
    "user_session['date'] = pd.to_datetime(user_session['date'])\n",
    "user_session['date_only'] = user_session['date'].dt.date "
   ]
  },
  {
   "cell_type": "markdown",
   "id": "c33d42c2",
   "metadata": {},
   "source": [
    "## Задача 1"
   ]
  },
  {
   "cell_type": "markdown",
   "id": "613f7ffa",
   "metadata": {},
   "source": [
    "Посчитайте долю пользователей мужского пола в таблице `user`.\n",
    "\n",
    "Ответ округлите до $2$-х знаков после запятой.\n",
    "\n",
    "**Рекомендации по решению**\n",
    "\n",
    "Для подсчёта доли объектов, удовлетворяющих заданному условию, удобно использовать функцию `mean`, вызвав её от колонки-фильтра со значениями булевого типа. В данном случае каждое знаечние `True` будет приведено к $1$, а каждое значение `False` — к $0$. Усреднение этих значений как раз и даст долю объектов, удволетворяющих заданному условию."
   ]
  },
  {
   "cell_type": "code",
   "execution_count": 9,
   "id": "0339658f-66d3-45cb-9c4e-6a70431123e8",
   "metadata": {},
   "outputs": [
    {
     "data": {
      "text/html": [
       "<div>\n",
       "<style scoped>\n",
       "    .dataframe tbody tr th:only-of-type {\n",
       "        vertical-align: middle;\n",
       "    }\n",
       "\n",
       "    .dataframe tbody tr th {\n",
       "        vertical-align: top;\n",
       "    }\n",
       "\n",
       "    .dataframe thead th {\n",
       "        text-align: right;\n",
       "    }\n",
       "</style>\n",
       "<table border=\"1\" class=\"dataframe\">\n",
       "  <thead>\n",
       "    <tr style=\"text-align: right;\">\n",
       "      <th></th>\n",
       "      <th>id</th>\n",
       "      <th>gender</th>\n",
       "      <th>birthday</th>\n",
       "      <th>region</th>\n",
       "      <th>last_visited</th>\n",
       "    </tr>\n",
       "  </thead>\n",
       "  <tbody>\n",
       "    <tr>\n",
       "      <th>0</th>\n",
       "      <td>1</td>\n",
       "      <td>М</td>\n",
       "      <td>2007-07-15 18:53:02</td>\n",
       "      <td>Город Москва</td>\n",
       "      <td>2023-09-20 18:00:34.464576</td>\n",
       "    </tr>\n",
       "    <tr>\n",
       "      <th>1</th>\n",
       "      <td>2</td>\n",
       "      <td>Ж</td>\n",
       "      <td>2007-06-16 11:48:48</td>\n",
       "      <td>Краснодарский край</td>\n",
       "      <td>2023-10-04 16:01:11.464583</td>\n",
       "    </tr>\n",
       "    <tr>\n",
       "      <th>2</th>\n",
       "      <td>3</td>\n",
       "      <td>М</td>\n",
       "      <td>2010-08-09 14:11:20</td>\n",
       "      <td>Город Санкт-Петербург</td>\n",
       "      <td>2023-09-27 17:14:43.464586</td>\n",
       "    </tr>\n",
       "    <tr>\n",
       "      <th>3</th>\n",
       "      <td>4</td>\n",
       "      <td>М</td>\n",
       "      <td>2008-07-03 10:50:41</td>\n",
       "      <td>Город Санкт-Петербург</td>\n",
       "      <td>2023-09-27 13:46:11.464589</td>\n",
       "    </tr>\n",
       "    <tr>\n",
       "      <th>4</th>\n",
       "      <td>5</td>\n",
       "      <td>М</td>\n",
       "      <td>2010-02-15 23:03:02</td>\n",
       "      <td>Краснодарский край</td>\n",
       "      <td>2023-10-12 10:16:43.464591</td>\n",
       "    </tr>\n",
       "    <tr>\n",
       "      <th>...</th>\n",
       "      <td>...</td>\n",
       "      <td>...</td>\n",
       "      <td>...</td>\n",
       "      <td>...</td>\n",
       "      <td>...</td>\n",
       "    </tr>\n",
       "    <tr>\n",
       "      <th>995</th>\n",
       "      <td>996</td>\n",
       "      <td>М</td>\n",
       "      <td>2009-10-23 06:33:42</td>\n",
       "      <td>Город Москва</td>\n",
       "      <td>2023-10-11 15:27:50.466992</td>\n",
       "    </tr>\n",
       "    <tr>\n",
       "      <th>996</th>\n",
       "      <td>997</td>\n",
       "      <td>М</td>\n",
       "      <td>2008-11-27 05:44:59</td>\n",
       "      <td>Город Москва</td>\n",
       "      <td>2023-10-16 12:01:08.466994</td>\n",
       "    </tr>\n",
       "    <tr>\n",
       "      <th>997</th>\n",
       "      <td>998</td>\n",
       "      <td>М</td>\n",
       "      <td>2008-12-16 14:50:57</td>\n",
       "      <td>Краснодарский край</td>\n",
       "      <td>2023-10-13 17:29:46.466996</td>\n",
       "    </tr>\n",
       "    <tr>\n",
       "      <th>998</th>\n",
       "      <td>999</td>\n",
       "      <td>Ж</td>\n",
       "      <td>2009-09-28 13:25:52</td>\n",
       "      <td>Краснодарский край</td>\n",
       "      <td>2023-09-23 15:38:04.466999</td>\n",
       "    </tr>\n",
       "    <tr>\n",
       "      <th>999</th>\n",
       "      <td>1000</td>\n",
       "      <td>Ж</td>\n",
       "      <td>2009-05-22 22:43:47</td>\n",
       "      <td>Город Москва</td>\n",
       "      <td>2023-09-26 11:43:36.467001</td>\n",
       "    </tr>\n",
       "  </tbody>\n",
       "</table>\n",
       "<p>1000 rows × 5 columns</p>\n",
       "</div>"
      ],
      "text/plain": [
       "       id gender             birthday                 region  \\\n",
       "0       1      М  2007-07-15 18:53:02           Город Москва   \n",
       "1       2      Ж  2007-06-16 11:48:48     Краснодарский край   \n",
       "2       3      М  2010-08-09 14:11:20  Город Санкт-Петербург   \n",
       "3       4      М  2008-07-03 10:50:41  Город Санкт-Петербург   \n",
       "4       5      М  2010-02-15 23:03:02     Краснодарский край   \n",
       "..    ...    ...                  ...                    ...   \n",
       "995   996      М  2009-10-23 06:33:42           Город Москва   \n",
       "996   997      М  2008-11-27 05:44:59           Город Москва   \n",
       "997   998      М  2008-12-16 14:50:57     Краснодарский край   \n",
       "998   999      Ж  2009-09-28 13:25:52     Краснодарский край   \n",
       "999  1000      Ж  2009-05-22 22:43:47           Город Москва   \n",
       "\n",
       "                   last_visited  \n",
       "0    2023-09-20 18:00:34.464576  \n",
       "1    2023-10-04 16:01:11.464583  \n",
       "2    2023-09-27 17:14:43.464586  \n",
       "3    2023-09-27 13:46:11.464589  \n",
       "4    2023-10-12 10:16:43.464591  \n",
       "..                          ...  \n",
       "995  2023-10-11 15:27:50.466992  \n",
       "996  2023-10-16 12:01:08.466994  \n",
       "997  2023-10-13 17:29:46.466996  \n",
       "998  2023-09-23 15:38:04.466999  \n",
       "999  2023-09-26 11:43:36.467001  \n",
       "\n",
       "[1000 rows x 5 columns]"
      ]
     },
     "metadata": {},
     "output_type": "display_data"
    },
    {
     "data": {
      "text/html": [
       "<div>\n",
       "<style scoped>\n",
       "    .dataframe tbody tr th:only-of-type {\n",
       "        vertical-align: middle;\n",
       "    }\n",
       "\n",
       "    .dataframe tbody tr th {\n",
       "        vertical-align: top;\n",
       "    }\n",
       "\n",
       "    .dataframe thead th {\n",
       "        text-align: right;\n",
       "    }\n",
       "</style>\n",
       "<table border=\"1\" class=\"dataframe\">\n",
       "  <thead>\n",
       "    <tr style=\"text-align: right;\">\n",
       "      <th></th>\n",
       "      <th>session_id</th>\n",
       "      <th>user_id</th>\n",
       "      <th>date</th>\n",
       "      <th>time_watched</th>\n",
       "    </tr>\n",
       "  </thead>\n",
       "  <tbody>\n",
       "    <tr>\n",
       "      <th>0</th>\n",
       "      <td>1</td>\n",
       "      <td>558</td>\n",
       "      <td>2023-01-23 00:52:14</td>\n",
       "      <td>10</td>\n",
       "    </tr>\n",
       "    <tr>\n",
       "      <th>1</th>\n",
       "      <td>2</td>\n",
       "      <td>435</td>\n",
       "      <td>2023-01-06 20:59:45</td>\n",
       "      <td>51</td>\n",
       "    </tr>\n",
       "    <tr>\n",
       "      <th>2</th>\n",
       "      <td>3</td>\n",
       "      <td>783</td>\n",
       "      <td>2023-01-27 19:24:25</td>\n",
       "      <td>2</td>\n",
       "    </tr>\n",
       "    <tr>\n",
       "      <th>3</th>\n",
       "      <td>4</td>\n",
       "      <td>575</td>\n",
       "      <td>2023-01-23 21:55:54</td>\n",
       "      <td>29</td>\n",
       "    </tr>\n",
       "    <tr>\n",
       "      <th>4</th>\n",
       "      <td>5</td>\n",
       "      <td>598</td>\n",
       "      <td>2023-01-22 15:06:09</td>\n",
       "      <td>5</td>\n",
       "    </tr>\n",
       "    <tr>\n",
       "      <th>...</th>\n",
       "      <td>...</td>\n",
       "      <td>...</td>\n",
       "      <td>...</td>\n",
       "      <td>...</td>\n",
       "    </tr>\n",
       "    <tr>\n",
       "      <th>52607</th>\n",
       "      <td>52608</td>\n",
       "      <td>490</td>\n",
       "      <td>2023-10-07 09:03:03</td>\n",
       "      <td>14</td>\n",
       "    </tr>\n",
       "    <tr>\n",
       "      <th>52608</th>\n",
       "      <td>52609</td>\n",
       "      <td>527</td>\n",
       "      <td>2023-10-10 17:48:33</td>\n",
       "      <td>35</td>\n",
       "    </tr>\n",
       "    <tr>\n",
       "      <th>52609</th>\n",
       "      <td>52610</td>\n",
       "      <td>2</td>\n",
       "      <td>2023-10-01 04:12:31</td>\n",
       "      <td>37</td>\n",
       "    </tr>\n",
       "    <tr>\n",
       "      <th>52610</th>\n",
       "      <td>52611</td>\n",
       "      <td>939</td>\n",
       "      <td>2023-10-01 00:47:51</td>\n",
       "      <td>23</td>\n",
       "    </tr>\n",
       "    <tr>\n",
       "      <th>52611</th>\n",
       "      <td>52612</td>\n",
       "      <td>169</td>\n",
       "      <td>2023-10-08 04:22:29</td>\n",
       "      <td>28</td>\n",
       "    </tr>\n",
       "  </tbody>\n",
       "</table>\n",
       "<p>52612 rows × 4 columns</p>\n",
       "</div>"
      ],
      "text/plain": [
       "       session_id  user_id                 date  time_watched\n",
       "0               1      558  2023-01-23 00:52:14            10\n",
       "1               2      435  2023-01-06 20:59:45            51\n",
       "2               3      783  2023-01-27 19:24:25             2\n",
       "3               4      575  2023-01-23 21:55:54            29\n",
       "4               5      598  2023-01-22 15:06:09             5\n",
       "...           ...      ...                  ...           ...\n",
       "52607       52608      490  2023-10-07 09:03:03            14\n",
       "52608       52609      527  2023-10-10 17:48:33            35\n",
       "52609       52610        2  2023-10-01 04:12:31            37\n",
       "52610       52611      939  2023-10-01 00:47:51            23\n",
       "52611       52612      169  2023-10-08 04:22:29            28\n",
       "\n",
       "[52612 rows x 4 columns]"
      ]
     },
     "metadata": {},
     "output_type": "display_data"
    },
    {
     "name": "stdout",
     "output_type": "stream",
     "text": [
      "0.425\n"
     ]
    }
   ],
   "source": [
    "display(user)\n",
    "display(user_session)\n",
    "print((user['gender'] == 'М').mean())"
   ]
  },
  {
   "cell_type": "markdown",
   "id": "a0d3b116",
   "metadata": {},
   "source": [
    "## Задача 2"
   ]
  },
  {
   "cell_type": "markdown",
   "id": "b421674f",
   "metadata": {},
   "source": [
    "Посчитайте долю пользователей из Краснодарского края, которые заходили на платформу в сентябре $2023$-го года.\n",
    "\n",
    "Ответ округлите до $2$-х знаков после запятой."
   ]
  },
  {
   "cell_type": "code",
   "execution_count": 22,
   "id": "a257e30d-9454-4b19-ad96-6c10d3ac3a26",
   "metadata": {},
   "outputs": [
    {
     "name": "stdout",
     "output_type": "stream",
     "text": [
      "0.401\n"
     ]
    }
   ],
   "source": [
    "# Объединяем данные\n",
    "course_region = user_session.merge(user, left_on='user_id', right_on='id')\n",
    "\n",
    "# Фильтруем только пользователей из Краснодарского края\n",
    "krasnodar = course_region[course_region['region'] == 'Краснодарский край']\n",
    "\n",
    "# Фильтруем сессии — сентябрь 2023\n",
    "september_sessions = krasnodar[\n",
    "    (krasnodar['last_visited'].dt.year == 2023) &\n",
    "    (krasnodar['last_visited'].dt.month == 9)\n",
    "]\n",
    "\n",
    "# Находим уникальных пользователей из Краснодарского края, заходивших в сентябре\n",
    "users_in_september = september_sessions['user_id'].nunique()\n",
    "\n",
    "# Общее число пользователей из Краснодарского края\n",
    "total_krasnodar = krasnodar['user_id'].nunique()\n",
    "\n",
    "# Считаем долю\n",
    "fraction = users_in_september / total_krasnodar\n",
    "\n",
    "# Округляем до 3 знаков после запятой\n",
    "print(round(fraction, 3))"
   ]
  },
  {
   "cell_type": "markdown",
   "id": "9ede3010",
   "metadata": {},
   "source": [
    "## Задача 3"
   ]
  },
  {
   "cell_type": "markdown",
   "id": "b4137474",
   "metadata": {},
   "source": [
    "По таблице `user_session` рассчитайте долю активных пользователей в мае $2023$-го года относительно общего числа пользователей платформы из таблицы `user`.\n",
    "\n",
    "Активными считайте пользователей, у которых в этот месяц была хотя бы одна сессия.\n",
    "\n",
    "Ответ округлите до $2$-х знаков после запятой."
   ]
  },
  {
   "cell_type": "code",
   "execution_count": 28,
   "id": "7c0feae0-fe61-48db-bb48-0b3a2f5f7075",
   "metadata": {},
   "outputs": [],
   "source": [
    "may_session = user_session[(user_session['date'].dt.year == 2023) &\n",
    "    (user_session['date'].dt.month == 5)]\n",
    "unique = may_session['user_id'].nunique()\n",
    "print(len(unique)/len())"
   ]
  },
  {
   "cell_type": "markdown",
   "id": "a8e18d2e",
   "metadata": {},
   "source": [
    "## Задача 4"
   ]
  },
  {
   "cell_type": "markdown",
   "id": "99d1c5d9",
   "metadata": {},
   "source": [
    "Дадим другое определение активным пользователям. Будем считать активными в конкретном месяце тех, кто посмотрел хотя бы $60$ минут видеоконтента в этом месяце.\n",
    "\n",
    "Рассчитайте долю активных пользователей среди тех, у кого была хотя бы одна сессия в марте $2023$-го года.\n",
    "\n",
    "Ответ округлите до $2$-х знаков после запятой."
   ]
  },
  {
   "cell_type": "code",
   "execution_count": 36,
   "id": "d912bf6b-ee01-4fbc-b643-2d6306d516c9",
   "metadata": {},
   "outputs": [
    {
     "name": "stdout",
     "output_type": "stream",
     "text": [
      "0.9192872117400419\n"
     ]
    }
   ],
   "source": [
    "may_session = user_session[(user_session['date'].dt.year == 2023) &\n",
    "    (user_session['date'].dt.month == 3)]\n",
    "users_march = may_session['user_id'].nunique()\n",
    "mrch = may_session.groupby(['user_id'], as_index=False).agg({'time_watched': 'sum'})\n",
    "print((mrch['time_watched'] >=60).mean())"
   ]
  },
  {
   "cell_type": "markdown",
   "id": "d09e49c0",
   "metadata": {},
   "source": [
    "# Задачи 5-9"
   ]
  },
  {
   "cell_type": "markdown",
   "id": "5d4bf7dd",
   "metadata": {},
   "source": [
    "Рассчитайте, сколько в среднем смотрят видеоконтента пользователи за один день активности. Днём активности называем день, в который у пользователя была сессия."
   ]
  },
  {
   "cell_type": "markdown",
   "id": "ffe1f121",
   "metadata": {},
   "source": [
    "## Задача 5"
   ]
  },
  {
   "cell_type": "markdown",
   "id": "9f6ca13f",
   "metadata": {},
   "source": [
    "Для этого сначала вычислите суммарное число дней, когда пользователи смотрели видеоконтент.\n",
    "\n",
    "Обратите внимание, что хараткеристику можно посчитать двумя способами. Рассчитатйте её как число уникальных пар вида (пользователь; день, когда у него была сессия)."
   ]
  },
  {
   "cell_type": "code",
   "execution_count": 47,
   "id": "16f17433-7639-4854-a71c-3bf97ba7af2d",
   "metadata": {},
   "outputs": [
    {
     "name": "stdout",
     "output_type": "stream",
     "text": [
      "44932\n"
     ]
    }
   ],
   "source": [
    "total_days = (user_session\n",
    "              .groupby('user_id')['date_only']\n",
    "              .nunique()\n",
    "              .sum())\n",
    "print(total_days\n",
    "     )"
   ]
  },
  {
   "cell_type": "markdown",
   "id": "5e986c53",
   "metadata": {},
   "source": [
    "## Задача 6"
   ]
  },
  {
   "cell_type": "markdown",
   "id": "4ec007d0",
   "metadata": {},
   "source": [
    "Теперь вычислите суммарное время просмотра видеоконтента пользователями."
   ]
  },
  {
   "cell_type": "code",
   "execution_count": 48,
   "id": "dd162362-3d38-4600-afc1-99c7a89bb3c4",
   "metadata": {},
   "outputs": [
    {
     "name": "stdout",
     "output_type": "stream",
     "text": [
      "1607552\n"
     ]
    }
   ],
   "source": [
    "print(user_session['time_watched'].sum())"
   ]
  },
  {
   "cell_type": "markdown",
   "id": "1fca81c6",
   "metadata": {},
   "source": [
    "## Задача 7"
   ]
  },
  {
   "cell_type": "markdown",
   "id": "62709645",
   "metadata": {},
   "source": [
    "Вычислите среднее количество просмотренного пользователями видеоконтента за день активности, как отношение суммарного времени просмотра к суммарному числу дней просмотра.\n",
    "\n",
    "Ответ округлите до $2$-х знаков после запятой."
   ]
  },
  {
   "cell_type": "code",
   "execution_count": 49,
   "id": "1d6202d3-9584-4d0a-bdac-3b247d35ae92",
   "metadata": {},
   "outputs": [
    {
     "name": "stdout",
     "output_type": "stream",
     "text": [
      "35.77744146710585\n"
     ]
    }
   ],
   "source": [
    "print(user_session['time_watched'].sum()/total_days)"
   ]
  },
  {
   "cell_type": "markdown",
   "id": "1e1834e4",
   "metadata": {},
   "source": [
    "## Задача 8"
   ]
  },
  {
   "cell_type": "markdown",
   "id": "23cd1b77",
   "metadata": {},
   "source": [
    "Обратите внимание, что есть альтернативный способ рассчитать, сколько в среднем видеоконтента смотрят пользователи за один день активности.\n",
    "\n",
    "Во-первых, рассчитайте для каждого из пользователей среднее количество просмотренного им видеоконтента. Принцип вычисления метрики для конкретного пользователя такой же, как был для всех пользователей вместе: нужно взять суммарное время просмотра контента и разделить на суммарное количество уникальных дней активности.\n",
    "\n",
    "В качестве ответа укажите среднее количество просмотренного видеоконтента пользователем с `id`, равным $738$. Ответ округлите до $2$-х знаков после запятой.\n",
    "\n",
    "**Рекомендации по решению**\n",
    "\n",
    "Для того чтобы вычислить среднее количество видеоконтента, просмотренного конкретным пользователем, удобно провести группировку по пользователям и произвести агрегацию по двум колонкам отдельно: по колонке `time_watched`, просуммировав значения в ней , и по колонке `date`, посчитав количество уникальных дней активности для каждого из пользователей.\n",
    "\n",
    "Для того чтобы произвести агрегацию по колонке `date`, удобно воспользоваться лямбда-функцией, которая сначала произведёт округление моментов времени из колонке `date` _вниз_ до дней, а потом посчитает количество полученных уникальных дней."
   ]
  },
  {
   "cell_type": "code",
   "execution_count": 64,
   "id": "1157f293-1f0b-494a-bae9-b8496b9770d4",
   "metadata": {},
   "outputs": [
    {
     "name": "stdout",
     "output_type": "stream",
     "text": [
      "34.793012875603004\n"
     ]
    }
   ],
   "source": [
    "user_stats = user_session.groupby('user_id').agg(\n",
    "    total_time=('time_watched', 'sum'),\n",
    "    active_days=('date', lambda x: x.dt.date.nunique())  # число уникальных дней\n",
    ")\n",
    "\n",
    "# Среднее время просмотра в день активности\n",
    "user_stats['avg_per_active_day'] = user_stats['total_time'] / user_stats['active_days']\n",
    "print(user_stats['avg_per_active_day'].mean())"
   ]
  },
  {
   "cell_type": "markdown",
   "id": "419edbe1",
   "metadata": {},
   "source": [
    "## Задача 9"
   ]
  },
  {
   "cell_type": "markdown",
   "id": "9f80964b",
   "metadata": {},
   "source": [
    "Для того чтобы вычислить среднее время просмотра видеоконтента за день активности, посчитайте среднее арифметическое данной характеристики по всем пользователям. Для этого используйте данные, полученные в предыдущем упражнении.\n",
    "\n",
    "Ответ округлите до $2$-х знаков после запятой."
   ]
  }
 ],
 "metadata": {
  "kernelspec": {
   "display_name": "Python 3 (ipykernel)",
   "language": "python",
   "name": "python3"
  },
  "language_info": {
   "codemirror_mode": {
    "name": "ipython",
    "version": 3
   },
   "file_extension": ".py",
   "mimetype": "text/x-python",
   "name": "python",
   "nbconvert_exporter": "python",
   "pygments_lexer": "ipython3",
   "version": "3.11.1"
  }
 },
 "nbformat": 4,
 "nbformat_minor": 5
}
