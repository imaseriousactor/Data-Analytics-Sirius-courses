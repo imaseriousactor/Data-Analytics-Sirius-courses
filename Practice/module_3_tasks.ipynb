{
 "cells": [
  {
   "cell_type": "markdown",
   "id": "8b5551e4",
   "metadata": {},
   "source": [
    "## Установка pandas"
   ]
  },
  {
   "cell_type": "code",
   "execution_count": 1,
   "id": "d45712c2",
   "metadata": {},
   "outputs": [
    {
     "name": "stdout",
     "output_type": "stream",
     "text": [
      "Requirement already satisfied: pandas in c:\\users\\marusya\\appdata\\local\\programs\\python\\python311\\lib\\site-packages (2.3.0)\n",
      "Requirement already satisfied: numpy>=1.23.2 in c:\\users\\marusya\\appdata\\local\\programs\\python\\python311\\lib\\site-packages (from pandas) (2.1.3)\n",
      "Requirement already satisfied: python-dateutil>=2.8.2 in c:\\users\\marusya\\appdata\\local\\programs\\python\\python311\\lib\\site-packages (from pandas) (2.9.0.post0)\n",
      "Requirement already satisfied: pytz>=2020.1 in c:\\users\\marusya\\appdata\\local\\programs\\python\\python311\\lib\\site-packages (from pandas) (2025.2)\n",
      "Requirement already satisfied: tzdata>=2022.7 in c:\\users\\marusya\\appdata\\local\\programs\\python\\python311\\lib\\site-packages (from pandas) (2025.2)\n",
      "Requirement already satisfied: six>=1.5 in c:\\users\\marusya\\appdata\\local\\programs\\python\\python311\\lib\\site-packages (from python-dateutil>=2.8.2->pandas) (1.17.0)\n"
     ]
    }
   ],
   "source": [
    "!pip3 install pandas"
   ]
  },
  {
   "cell_type": "code",
   "execution_count": 2,
   "id": "0f2bde54",
   "metadata": {},
   "outputs": [],
   "source": [
    "import pandas as pd"
   ]
  },
  {
   "cell_type": "markdown",
   "id": "bb177a51",
   "metadata": {},
   "source": [
    "## Чтение данных и фильтрация таблиц"
   ]
  },
  {
   "cell_type": "code",
   "execution_count": 32,
   "id": "ab84ff39",
   "metadata": {},
   "outputs": [],
   "source": [
    "user = pd.read_csv('user.csv')\n",
    "user['birthday'] =\\\n",
    "    pd.to_datetime(user['birthday'], format='%d.%m.%Y')\n",
    "user['last_visited'] =\\\n",
    "    pd.to_datetime(user['last_visited'], format='%d.%m.%Y %H:%M:%S')\n",
    "#mean_grade = user['grade'].dropna().mean().round()\n",
    "user['grade'] = user['grade'].fillna(0).astype('int')"
   ]
  },
  {
   "cell_type": "markdown",
   "id": "b5539d87",
   "metadata": {},
   "source": [
    "### Задание 1"
   ]
  },
  {
   "cell_type": "markdown",
   "id": "ae00c5b8",
   "metadata": {},
   "source": [
    "Сколько в таблице `user` представлено учеников, родившихся в сентябре?"
   ]
  },
  {
   "cell_type": "code",
   "execution_count": 12,
   "id": "ee2e872c-0f4d-4064-b49c-c583a906c9be",
   "metadata": {},
   "outputs": [
    {
     "name": "stdout",
     "output_type": "stream",
     "text": [
      "73\n"
     ]
    }
   ],
   "source": [
    "ans = len(user[user['birthday'].dt.month == 9])\n",
    "print(ans)"
   ]
  },
  {
   "cell_type": "markdown",
   "id": "0f328db0",
   "metadata": {},
   "source": [
    "### Задание 2"
   ]
  },
  {
   "cell_type": "markdown",
   "id": "b5c4a9d8",
   "metadata": {},
   "source": [
    "Какое количество учеников в последний раз посещали платформу в первые $14$ дней сентября?"
   ]
  },
  {
   "cell_type": "code",
   "execution_count": 22,
   "id": "0558ec70-8841-48e8-8e8a-d7600e5ff460",
   "metadata": {},
   "outputs": [
    {
     "name": "stdout",
     "output_type": "stream",
     "text": [
      "377\n"
     ]
    }
   ],
   "source": [
    "user1 = user[user['last_visited'] > pd.to_datetime('31.08.2023 23:59:59',  format='%d.%m.%Y %H:%M:%S')]\n",
    "ans = len(user1[user1['last_visited'] <= pd.to_datetime('14.09.2023 23:59:59',  format='%d.%m.%Y %H:%M:%S')])\n",
    "print(ans)"
   ]
  },
  {
   "cell_type": "markdown",
   "id": "624a946a",
   "metadata": {},
   "source": [
    "### Задание 3"
   ]
  },
  {
   "cell_type": "markdown",
   "id": "2cb7a2e7",
   "metadata": {},
   "source": [
    "На сколько в данных больше девятиклассников, чем девятиклассниц?"
   ]
  },
  {
   "cell_type": "code",
   "execution_count": 29,
   "id": "70f22ff0-1e65-4fe5-8e85-738f50308d51",
   "metadata": {},
   "outputs": [
    {
     "name": "stdout",
     "output_type": "stream",
     "text": [
      "5\n"
     ]
    }
   ],
   "source": [
    "user9 = user[user['grade'] == 9]\n",
    "girls = len(user9[user9['gender'] == 'Ж'])\n",
    "boys = len(user9[user9['gender'] == 'М'])\n",
    "print(boys - girls)"
   ]
  },
  {
   "cell_type": "markdown",
   "id": "1cf486a9",
   "metadata": {},
   "source": [
    "### Задание 4"
   ]
  },
  {
   "cell_type": "markdown",
   "id": "6eacddf0",
   "metadata": {},
   "source": [
    "Какой процент учеников, у которых указан класс, обучается в $9$-м классе?\n",
    "\n",
    "Ответ округлите до целых."
   ]
  },
  {
   "cell_type": "code",
   "execution_count": 34,
   "id": "457947c2-e7a5-4ae7-8856-f40ccc9de0ad",
   "metadata": {},
   "outputs": [
    {
     "name": "stdout",
     "output_type": "stream",
     "text": [
      "0.23706377858002406\n"
     ]
    }
   ],
   "source": [
    "userg = user[user['grade'] != 0]\n",
    "nine = userg[userg['grade'] == 9]\n",
    "print(len(nine)/len(userg))"
   ]
  },
  {
   "cell_type": "markdown",
   "id": "07097adb",
   "metadata": {},
   "source": [
    "### Задание 5"
   ]
  },
  {
   "cell_type": "markdown",
   "id": "0906829a",
   "metadata": {},
   "source": [
    "Сколько в данных представлено учеников из регионов, в названиях которых в качестве подстроки содержится слово «город»?\n",
    "\n",
    "При расчёте статистики приведите названия регионов к строчному написанию."
   ]
  },
  {
   "cell_type": "code",
   "execution_count": 31,
   "id": "26b34135-205d-44ff-b03b-26fa1921c3db",
   "metadata": {},
   "outputs": [
    {
     "name": "stdout",
     "output_type": "stream",
     "text": [
      "765\n"
     ]
    }
   ],
   "source": [
    "ans = len(user[user['region']\\\n",
    "    .str.lower()\\\n",
    "    .str.contains('город')])\n",
    "print(ans)"
   ]
  },
  {
   "cell_type": "markdown",
   "id": "eb7dddb6",
   "metadata": {},
   "source": [
    "## Группировка, агрегация и соединение таблиц"
   ]
  },
  {
   "cell_type": "code",
   "execution_count": 3,
   "id": "57f47640",
   "metadata": {},
   "outputs": [],
   "source": [
    "course = pd.read_csv('course.csv')"
   ]
  },
  {
   "cell_type": "code",
   "execution_count": 4,
   "id": "1473a0b6",
   "metadata": {},
   "outputs": [],
   "source": [
    "user_course_progress = pd.read_csv('user_course_progress.csv')"
   ]
  },
  {
   "cell_type": "markdown",
   "id": "33916891",
   "metadata": {},
   "source": [
    "**Относительным прогрессом** будем называть отношение суммарного числа баллов, которые ученик набрал за курс (колонка `progress` в таблице `user_course_progress`), к максимальному количеству баллов, которые ученик в принципе мог набрать за данный курс (колонка `max_progress` в таблице `course`).\n",
    "\n",
    "С помощью представленных данных найдите ответ на следующий вопрос: в курсах какого предмета больше всего учеников, чей относительный прогресс не меньше $0.8$?\n",
    "\n",
    "В рамках следующих заданий вам будет предложено, действуя поэтапно, найти ответ на этот вопрос."
   ]
  },
  {
   "cell_type": "markdown",
   "id": "0b282053",
   "metadata": {},
   "source": [
    "### Задание 1"
   ]
  },
  {
   "cell_type": "markdown",
   "id": "56f4ef8c",
   "metadata": {},
   "source": [
    "Произведите соединение таблиц `course` и `user_course_progress`.\n",
    "\n",
    "В качестве ответа укажите количество строчек итоговой таблицы, в которых представлены ученики курсов по химии."
   ]
  },
  {
   "cell_type": "code",
   "execution_count": 7,
   "id": "78c05a4b-9692-442a-a442-6fcce730751c",
   "metadata": {},
   "outputs": [
    {
     "data": {
      "text/html": [
       "<div>\n",
       "<style scoped>\n",
       "    .dataframe tbody tr th:only-of-type {\n",
       "        vertical-align: middle;\n",
       "    }\n",
       "\n",
       "    .dataframe tbody tr th {\n",
       "        vertical-align: top;\n",
       "    }\n",
       "\n",
       "    .dataframe thead th {\n",
       "        text-align: right;\n",
       "    }\n",
       "</style>\n",
       "<table border=\"1\" class=\"dataframe\">\n",
       "  <thead>\n",
       "    <tr style=\"text-align: right;\">\n",
       "      <th></th>\n",
       "      <th>id</th>\n",
       "      <th>subject</th>\n",
       "      <th>date_started</th>\n",
       "      <th>max_score</th>\n",
       "      <th>user_id</th>\n",
       "      <th>course_id</th>\n",
       "      <th>progress</th>\n",
       "    </tr>\n",
       "  </thead>\n",
       "  <tbody>\n",
       "    <tr>\n",
       "      <th>0</th>\n",
       "      <td>1</td>\n",
       "      <td>Химия</td>\n",
       "      <td>2023-04-04</td>\n",
       "      <td>108.0</td>\n",
       "      <td>392</td>\n",
       "      <td>1</td>\n",
       "      <td>31.68</td>\n",
       "    </tr>\n",
       "    <tr>\n",
       "      <th>1</th>\n",
       "      <td>1</td>\n",
       "      <td>Химия</td>\n",
       "      <td>2023-04-04</td>\n",
       "      <td>108.0</td>\n",
       "      <td>217</td>\n",
       "      <td>1</td>\n",
       "      <td>97.53</td>\n",
       "    </tr>\n",
       "    <tr>\n",
       "      <th>2</th>\n",
       "      <td>1</td>\n",
       "      <td>Химия</td>\n",
       "      <td>2023-04-04</td>\n",
       "      <td>108.0</td>\n",
       "      <td>843</td>\n",
       "      <td>1</td>\n",
       "      <td>81.50</td>\n",
       "    </tr>\n",
       "    <tr>\n",
       "      <th>3</th>\n",
       "      <td>1</td>\n",
       "      <td>Химия</td>\n",
       "      <td>2023-04-04</td>\n",
       "      <td>108.0</td>\n",
       "      <td>417</td>\n",
       "      <td>1</td>\n",
       "      <td>15.92</td>\n",
       "    </tr>\n",
       "    <tr>\n",
       "      <th>4</th>\n",
       "      <td>1</td>\n",
       "      <td>Химия</td>\n",
       "      <td>2023-04-04</td>\n",
       "      <td>108.0</td>\n",
       "      <td>605</td>\n",
       "      <td>1</td>\n",
       "      <td>103.31</td>\n",
       "    </tr>\n",
       "    <tr>\n",
       "      <th>...</th>\n",
       "      <td>...</td>\n",
       "      <td>...</td>\n",
       "      <td>...</td>\n",
       "      <td>...</td>\n",
       "      <td>...</td>\n",
       "      <td>...</td>\n",
       "      <td>...</td>\n",
       "    </tr>\n",
       "    <tr>\n",
       "      <th>1706</th>\n",
       "      <td>10</td>\n",
       "      <td>Математика</td>\n",
       "      <td>2023-02-18</td>\n",
       "      <td>104.0</td>\n",
       "      <td>898</td>\n",
       "      <td>10</td>\n",
       "      <td>8.01</td>\n",
       "    </tr>\n",
       "    <tr>\n",
       "      <th>1707</th>\n",
       "      <td>10</td>\n",
       "      <td>Математика</td>\n",
       "      <td>2023-02-18</td>\n",
       "      <td>104.0</td>\n",
       "      <td>201</td>\n",
       "      <td>10</td>\n",
       "      <td>0.71</td>\n",
       "    </tr>\n",
       "    <tr>\n",
       "      <th>1708</th>\n",
       "      <td>10</td>\n",
       "      <td>Математика</td>\n",
       "      <td>2023-02-18</td>\n",
       "      <td>104.0</td>\n",
       "      <td>334</td>\n",
       "      <td>10</td>\n",
       "      <td>1.90</td>\n",
       "    </tr>\n",
       "    <tr>\n",
       "      <th>1709</th>\n",
       "      <td>10</td>\n",
       "      <td>Математика</td>\n",
       "      <td>2023-02-18</td>\n",
       "      <td>104.0</td>\n",
       "      <td>112</td>\n",
       "      <td>10</td>\n",
       "      <td>2.16</td>\n",
       "    </tr>\n",
       "    <tr>\n",
       "      <th>1710</th>\n",
       "      <td>10</td>\n",
       "      <td>Математика</td>\n",
       "      <td>2023-02-18</td>\n",
       "      <td>104.0</td>\n",
       "      <td>255</td>\n",
       "      <td>10</td>\n",
       "      <td>5.99</td>\n",
       "    </tr>\n",
       "  </tbody>\n",
       "</table>\n",
       "<p>1711 rows × 7 columns</p>\n",
       "</div>"
      ],
      "text/plain": [
       "      id     subject date_started  max_score  user_id  course_id  progress\n",
       "0      1       Химия   2023-04-04      108.0      392          1     31.68\n",
       "1      1       Химия   2023-04-04      108.0      217          1     97.53\n",
       "2      1       Химия   2023-04-04      108.0      843          1     81.50\n",
       "3      1       Химия   2023-04-04      108.0      417          1     15.92\n",
       "4      1       Химия   2023-04-04      108.0      605          1    103.31\n",
       "...   ..         ...          ...        ...      ...        ...       ...\n",
       "1706  10  Математика   2023-02-18      104.0      898         10      8.01\n",
       "1707  10  Математика   2023-02-18      104.0      201         10      0.71\n",
       "1708  10  Математика   2023-02-18      104.0      334         10      1.90\n",
       "1709  10  Математика   2023-02-18      104.0      112         10      2.16\n",
       "1710  10  Математика   2023-02-18      104.0      255         10      5.99\n",
       "\n",
       "[1711 rows x 7 columns]"
      ]
     },
     "metadata": {},
     "output_type": "display_data"
    },
    {
     "name": "stdout",
     "output_type": "stream",
     "text": [
      "678\n"
     ]
    }
   ],
   "source": [
    "user_course = course.merge(user_course_progress, left_on='id', right_on='course_id')\n",
    "ans = len(user_course[user_course['subject'] == 'Химия'])\n",
    "display(user_course)\n",
    "print(ans)"
   ]
  },
  {
   "cell_type": "markdown",
   "id": "5f7122c8",
   "metadata": {},
   "source": [
    "### Задание 2"
   ]
  },
  {
   "cell_type": "markdown",
   "id": "6ebe3997",
   "metadata": {},
   "source": [
    "Обратите внимание, что у части курсов нет значения в колонке `max_score`. Уберите из полученной в предыдущем задании таблицы все строчки, в которых пропущено значение колонки `max_score`.\n",
    "\n",
    "В качестве ответа укажите количество строчек в итоговой таблице."
   ]
  },
  {
   "cell_type": "code",
   "execution_count": 8,
   "id": "68f54a4f-4984-4085-9d5a-3d8bac740d2d",
   "metadata": {},
   "outputs": [
    {
     "name": "stdout",
     "output_type": "stream",
     "text": [
      "1031\n"
     ]
    }
   ],
   "source": [
    "user_course_clean = user_course.dropna(subset=['max_score'])\n",
    "print(len(user_course_clean))"
   ]
  },
  {
   "cell_type": "markdown",
   "id": "2e7a3487",
   "metadata": {},
   "source": [
    "### Задание 3"
   ]
  },
  {
   "cell_type": "markdown",
   "id": "7b9fe5e3",
   "metadata": {},
   "source": [
    "Добавьте в полученную в предыдущем задании таблицу колонку `relative_progress`, в которой для каждого ученика будет храниться значение его относительного прогресса в конкретном курсе.\n",
    "\n",
    "В качестве ответа укажите среднее значение относительного прогресса в таблице. Ответ округлите до двух знаков после запятой с помощью функции `round`, которая встроена в Series."
   ]
  },
  {
   "cell_type": "code",
   "execution_count": 12,
   "id": "65acb632-1703-4cba-ab98-437f78c88e08",
   "metadata": {},
   "outputs": [
    {
     "name": "stderr",
     "output_type": "stream",
     "text": [
      "C:\\Temp\\ipykernel_11656\\1910882031.py:1: SettingWithCopyWarning: \n",
      "A value is trying to be set on a copy of a slice from a DataFrame.\n",
      "Try using .loc[row_indexer,col_indexer] = value instead\n",
      "\n",
      "See the caveats in the documentation: https://pandas.pydata.org/pandas-docs/stable/user_guide/indexing.html#returning-a-view-versus-a-copy\n",
      "  user_course_clean['relative_progress'] = (user_course_clean['progress'] / user_course_clean['max_score'])\n"
     ]
    },
    {
     "data": {
      "text/html": [
       "<div>\n",
       "<style scoped>\n",
       "    .dataframe tbody tr th:only-of-type {\n",
       "        vertical-align: middle;\n",
       "    }\n",
       "\n",
       "    .dataframe tbody tr th {\n",
       "        vertical-align: top;\n",
       "    }\n",
       "\n",
       "    .dataframe thead th {\n",
       "        text-align: right;\n",
       "    }\n",
       "</style>\n",
       "<table border=\"1\" class=\"dataframe\">\n",
       "  <thead>\n",
       "    <tr style=\"text-align: right;\">\n",
       "      <th></th>\n",
       "      <th>id</th>\n",
       "      <th>subject</th>\n",
       "      <th>date_started</th>\n",
       "      <th>max_score</th>\n",
       "      <th>user_id</th>\n",
       "      <th>course_id</th>\n",
       "      <th>progress</th>\n",
       "      <th>relative_progress</th>\n",
       "    </tr>\n",
       "  </thead>\n",
       "  <tbody>\n",
       "    <tr>\n",
       "      <th>0</th>\n",
       "      <td>1</td>\n",
       "      <td>Химия</td>\n",
       "      <td>2023-04-04</td>\n",
       "      <td>108.0</td>\n",
       "      <td>392</td>\n",
       "      <td>1</td>\n",
       "      <td>31.68</td>\n",
       "      <td>0.293333</td>\n",
       "    </tr>\n",
       "    <tr>\n",
       "      <th>1</th>\n",
       "      <td>1</td>\n",
       "      <td>Химия</td>\n",
       "      <td>2023-04-04</td>\n",
       "      <td>108.0</td>\n",
       "      <td>217</td>\n",
       "      <td>1</td>\n",
       "      <td>97.53</td>\n",
       "      <td>0.903056</td>\n",
       "    </tr>\n",
       "    <tr>\n",
       "      <th>2</th>\n",
       "      <td>1</td>\n",
       "      <td>Химия</td>\n",
       "      <td>2023-04-04</td>\n",
       "      <td>108.0</td>\n",
       "      <td>843</td>\n",
       "      <td>1</td>\n",
       "      <td>81.50</td>\n",
       "      <td>0.754630</td>\n",
       "    </tr>\n",
       "    <tr>\n",
       "      <th>3</th>\n",
       "      <td>1</td>\n",
       "      <td>Химия</td>\n",
       "      <td>2023-04-04</td>\n",
       "      <td>108.0</td>\n",
       "      <td>417</td>\n",
       "      <td>1</td>\n",
       "      <td>15.92</td>\n",
       "      <td>0.147407</td>\n",
       "    </tr>\n",
       "    <tr>\n",
       "      <th>4</th>\n",
       "      <td>1</td>\n",
       "      <td>Химия</td>\n",
       "      <td>2023-04-04</td>\n",
       "      <td>108.0</td>\n",
       "      <td>605</td>\n",
       "      <td>1</td>\n",
       "      <td>103.31</td>\n",
       "      <td>0.956574</td>\n",
       "    </tr>\n",
       "    <tr>\n",
       "      <th>...</th>\n",
       "      <td>...</td>\n",
       "      <td>...</td>\n",
       "      <td>...</td>\n",
       "      <td>...</td>\n",
       "      <td>...</td>\n",
       "      <td>...</td>\n",
       "      <td>...</td>\n",
       "      <td>...</td>\n",
       "    </tr>\n",
       "    <tr>\n",
       "      <th>1706</th>\n",
       "      <td>10</td>\n",
       "      <td>Математика</td>\n",
       "      <td>2023-02-18</td>\n",
       "      <td>104.0</td>\n",
       "      <td>898</td>\n",
       "      <td>10</td>\n",
       "      <td>8.01</td>\n",
       "      <td>0.077019</td>\n",
       "    </tr>\n",
       "    <tr>\n",
       "      <th>1707</th>\n",
       "      <td>10</td>\n",
       "      <td>Математика</td>\n",
       "      <td>2023-02-18</td>\n",
       "      <td>104.0</td>\n",
       "      <td>201</td>\n",
       "      <td>10</td>\n",
       "      <td>0.71</td>\n",
       "      <td>0.006827</td>\n",
       "    </tr>\n",
       "    <tr>\n",
       "      <th>1708</th>\n",
       "      <td>10</td>\n",
       "      <td>Математика</td>\n",
       "      <td>2023-02-18</td>\n",
       "      <td>104.0</td>\n",
       "      <td>334</td>\n",
       "      <td>10</td>\n",
       "      <td>1.90</td>\n",
       "      <td>0.018269</td>\n",
       "    </tr>\n",
       "    <tr>\n",
       "      <th>1709</th>\n",
       "      <td>10</td>\n",
       "      <td>Математика</td>\n",
       "      <td>2023-02-18</td>\n",
       "      <td>104.0</td>\n",
       "      <td>112</td>\n",
       "      <td>10</td>\n",
       "      <td>2.16</td>\n",
       "      <td>0.020769</td>\n",
       "    </tr>\n",
       "    <tr>\n",
       "      <th>1710</th>\n",
       "      <td>10</td>\n",
       "      <td>Математика</td>\n",
       "      <td>2023-02-18</td>\n",
       "      <td>104.0</td>\n",
       "      <td>255</td>\n",
       "      <td>10</td>\n",
       "      <td>5.99</td>\n",
       "      <td>0.057596</td>\n",
       "    </tr>\n",
       "  </tbody>\n",
       "</table>\n",
       "<p>1031 rows × 8 columns</p>\n",
       "</div>"
      ],
      "text/plain": [
       "      id     subject date_started  max_score  user_id  course_id  progress  \\\n",
       "0      1       Химия   2023-04-04      108.0      392          1     31.68   \n",
       "1      1       Химия   2023-04-04      108.0      217          1     97.53   \n",
       "2      1       Химия   2023-04-04      108.0      843          1     81.50   \n",
       "3      1       Химия   2023-04-04      108.0      417          1     15.92   \n",
       "4      1       Химия   2023-04-04      108.0      605          1    103.31   \n",
       "...   ..         ...          ...        ...      ...        ...       ...   \n",
       "1706  10  Математика   2023-02-18      104.0      898         10      8.01   \n",
       "1707  10  Математика   2023-02-18      104.0      201         10      0.71   \n",
       "1708  10  Математика   2023-02-18      104.0      334         10      1.90   \n",
       "1709  10  Математика   2023-02-18      104.0      112         10      2.16   \n",
       "1710  10  Математика   2023-02-18      104.0      255         10      5.99   \n",
       "\n",
       "      relative_progress  \n",
       "0              0.293333  \n",
       "1              0.903056  \n",
       "2              0.754630  \n",
       "3              0.147407  \n",
       "4              0.956574  \n",
       "...                 ...  \n",
       "1706           0.077019  \n",
       "1707           0.006827  \n",
       "1708           0.018269  \n",
       "1709           0.020769  \n",
       "1710           0.057596  \n",
       "\n",
       "[1031 rows x 8 columns]"
      ]
     },
     "metadata": {},
     "output_type": "display_data"
    },
    {
     "name": "stdout",
     "output_type": "stream",
     "text": [
      "0.35\n"
     ]
    }
   ],
   "source": [
    "user_course_clean['relative_progress'] = (user_course_clean['progress'] / user_course_clean['max_score'])\n",
    "mean_relative_progress = user_course_clean['relative_progress'].mean().round(2)\n",
    "display(user_course_clean)\n",
    "print(mean_relative_progress)"
   ]
  },
  {
   "cell_type": "markdown",
   "id": "f2f2e646",
   "metadata": {},
   "source": [
    "### Задание 4"
   ]
  },
  {
   "cell_type": "markdown",
   "id": "f066617d",
   "metadata": {},
   "source": [
    "Оставьте в полученной в предыдущем задании таблице только те строчки, в которых значение относительного прогресса не меньше $0.8$.\n",
    "\n",
    "В качестве ответа укажите число строчек в получившейся таблице."
   ]
  },
  {
   "cell_type": "code",
   "execution_count": 13,
   "id": "0049a655-0d05-4810-89e8-09c1ef555eaa",
   "metadata": {},
   "outputs": [
    {
     "data": {
      "text/html": [
       "<div>\n",
       "<style scoped>\n",
       "    .dataframe tbody tr th:only-of-type {\n",
       "        vertical-align: middle;\n",
       "    }\n",
       "\n",
       "    .dataframe tbody tr th {\n",
       "        vertical-align: top;\n",
       "    }\n",
       "\n",
       "    .dataframe thead th {\n",
       "        text-align: right;\n",
       "    }\n",
       "</style>\n",
       "<table border=\"1\" class=\"dataframe\">\n",
       "  <thead>\n",
       "    <tr style=\"text-align: right;\">\n",
       "      <th></th>\n",
       "      <th>id</th>\n",
       "      <th>subject</th>\n",
       "      <th>date_started</th>\n",
       "      <th>max_score</th>\n",
       "      <th>user_id</th>\n",
       "      <th>course_id</th>\n",
       "      <th>progress</th>\n",
       "      <th>relative_progress</th>\n",
       "    </tr>\n",
       "  </thead>\n",
       "  <tbody>\n",
       "    <tr>\n",
       "      <th>1</th>\n",
       "      <td>1</td>\n",
       "      <td>Химия</td>\n",
       "      <td>2023-04-04</td>\n",
       "      <td>108.0</td>\n",
       "      <td>217</td>\n",
       "      <td>1</td>\n",
       "      <td>97.53</td>\n",
       "      <td>0.903056</td>\n",
       "    </tr>\n",
       "    <tr>\n",
       "      <th>4</th>\n",
       "      <td>1</td>\n",
       "      <td>Химия</td>\n",
       "      <td>2023-04-04</td>\n",
       "      <td>108.0</td>\n",
       "      <td>605</td>\n",
       "      <td>1</td>\n",
       "      <td>103.31</td>\n",
       "      <td>0.956574</td>\n",
       "    </tr>\n",
       "    <tr>\n",
       "      <th>25</th>\n",
       "      <td>1</td>\n",
       "      <td>Химия</td>\n",
       "      <td>2023-04-04</td>\n",
       "      <td>108.0</td>\n",
       "      <td>720</td>\n",
       "      <td>1</td>\n",
       "      <td>105.11</td>\n",
       "      <td>0.973241</td>\n",
       "    </tr>\n",
       "    <tr>\n",
       "      <th>28</th>\n",
       "      <td>1</td>\n",
       "      <td>Химия</td>\n",
       "      <td>2023-04-04</td>\n",
       "      <td>108.0</td>\n",
       "      <td>679</td>\n",
       "      <td>1</td>\n",
       "      <td>97.80</td>\n",
       "      <td>0.905556</td>\n",
       "    </tr>\n",
       "    <tr>\n",
       "      <th>29</th>\n",
       "      <td>1</td>\n",
       "      <td>Химия</td>\n",
       "      <td>2023-04-04</td>\n",
       "      <td>108.0</td>\n",
       "      <td>364</td>\n",
       "      <td>1</td>\n",
       "      <td>92.21</td>\n",
       "      <td>0.853796</td>\n",
       "    </tr>\n",
       "    <tr>\n",
       "      <th>...</th>\n",
       "      <td>...</td>\n",
       "      <td>...</td>\n",
       "      <td>...</td>\n",
       "      <td>...</td>\n",
       "      <td>...</td>\n",
       "      <td>...</td>\n",
       "      <td>...</td>\n",
       "      <td>...</td>\n",
       "    </tr>\n",
       "    <tr>\n",
       "      <th>1690</th>\n",
       "      <td>10</td>\n",
       "      <td>Математика</td>\n",
       "      <td>2023-02-18</td>\n",
       "      <td>104.0</td>\n",
       "      <td>768</td>\n",
       "      <td>10</td>\n",
       "      <td>98.52</td>\n",
       "      <td>0.947308</td>\n",
       "    </tr>\n",
       "    <tr>\n",
       "      <th>1691</th>\n",
       "      <td>10</td>\n",
       "      <td>Математика</td>\n",
       "      <td>2023-02-18</td>\n",
       "      <td>104.0</td>\n",
       "      <td>169</td>\n",
       "      <td>10</td>\n",
       "      <td>94.64</td>\n",
       "      <td>0.910000</td>\n",
       "    </tr>\n",
       "    <tr>\n",
       "      <th>1696</th>\n",
       "      <td>10</td>\n",
       "      <td>Математика</td>\n",
       "      <td>2023-02-18</td>\n",
       "      <td>104.0</td>\n",
       "      <td>46</td>\n",
       "      <td>10</td>\n",
       "      <td>84.48</td>\n",
       "      <td>0.812308</td>\n",
       "    </tr>\n",
       "    <tr>\n",
       "      <th>1697</th>\n",
       "      <td>10</td>\n",
       "      <td>Математика</td>\n",
       "      <td>2023-02-18</td>\n",
       "      <td>104.0</td>\n",
       "      <td>254</td>\n",
       "      <td>10</td>\n",
       "      <td>100.76</td>\n",
       "      <td>0.968846</td>\n",
       "    </tr>\n",
       "    <tr>\n",
       "      <th>1700</th>\n",
       "      <td>10</td>\n",
       "      <td>Математика</td>\n",
       "      <td>2023-02-18</td>\n",
       "      <td>104.0</td>\n",
       "      <td>802</td>\n",
       "      <td>10</td>\n",
       "      <td>101.47</td>\n",
       "      <td>0.975673</td>\n",
       "    </tr>\n",
       "  </tbody>\n",
       "</table>\n",
       "<p>159 rows × 8 columns</p>\n",
       "</div>"
      ],
      "text/plain": [
       "      id     subject date_started  max_score  user_id  course_id  progress  \\\n",
       "1      1       Химия   2023-04-04      108.0      217          1     97.53   \n",
       "4      1       Химия   2023-04-04      108.0      605          1    103.31   \n",
       "25     1       Химия   2023-04-04      108.0      720          1    105.11   \n",
       "28     1       Химия   2023-04-04      108.0      679          1     97.80   \n",
       "29     1       Химия   2023-04-04      108.0      364          1     92.21   \n",
       "...   ..         ...          ...        ...      ...        ...       ...   \n",
       "1690  10  Математика   2023-02-18      104.0      768         10     98.52   \n",
       "1691  10  Математика   2023-02-18      104.0      169         10     94.64   \n",
       "1696  10  Математика   2023-02-18      104.0       46         10     84.48   \n",
       "1697  10  Математика   2023-02-18      104.0      254         10    100.76   \n",
       "1700  10  Математика   2023-02-18      104.0      802         10    101.47   \n",
       "\n",
       "      relative_progress  \n",
       "1              0.903056  \n",
       "4              0.956574  \n",
       "25             0.973241  \n",
       "28             0.905556  \n",
       "29             0.853796  \n",
       "...                 ...  \n",
       "1690           0.947308  \n",
       "1691           0.910000  \n",
       "1696           0.812308  \n",
       "1697           0.968846  \n",
       "1700           0.975673  \n",
       "\n",
       "[159 rows x 8 columns]"
      ]
     },
     "metadata": {},
     "output_type": "display_data"
    },
    {
     "name": "stdout",
     "output_type": "stream",
     "text": [
      "159\n"
     ]
    }
   ],
   "source": [
    "user_crs = user_course_clean[user_course_clean['relative_progress'] >= 0.8]\n",
    "display(user_crs)\n",
    "print(len(user_crs))"
   ]
  },
  {
   "cell_type": "markdown",
   "id": "0da39496",
   "metadata": {},
   "source": [
    "### Задание 5"
   ]
  },
  {
   "cell_type": "markdown",
   "id": "e6730f75",
   "metadata": {},
   "source": [
    "Произведите группировку строчек таблицы по предметам и посчитайте, сколько учеников с относительным прогрессом не меньше $0.8$ оказалось в каждом из предметов.\n",
    "\n",
    "В качестве ответа заполните таблицу, в которой каждому предмету сопоставлено число таких учеников.\n",
    "\n",
    "Если один и тот же ученик учился в разных курсах одного и того же предмета и в каждом из этих курсов достиг относительного прогресса не менее $0.8$, при подсчёте учтите его несколько раз."
   ]
  },
  {
   "cell_type": "code",
   "execution_count": 17,
   "id": "ffdf9083-4217-4206-bd14-1a366a09d064",
   "metadata": {},
   "outputs": [
    {
     "data": {
      "text/html": [
       "<div>\n",
       "<style scoped>\n",
       "    .dataframe tbody tr th:only-of-type {\n",
       "        vertical-align: middle;\n",
       "    }\n",
       "\n",
       "    .dataframe tbody tr th {\n",
       "        vertical-align: top;\n",
       "    }\n",
       "\n",
       "    .dataframe thead th {\n",
       "        text-align: right;\n",
       "    }\n",
       "</style>\n",
       "<table border=\"1\" class=\"dataframe\">\n",
       "  <thead>\n",
       "    <tr style=\"text-align: right;\">\n",
       "      <th></th>\n",
       "      <th>subject</th>\n",
       "      <th>user_id</th>\n",
       "    </tr>\n",
       "  </thead>\n",
       "  <tbody>\n",
       "    <tr>\n",
       "      <th>0</th>\n",
       "      <td>Математика</td>\n",
       "      <td>30</td>\n",
       "    </tr>\n",
       "    <tr>\n",
       "      <th>1</th>\n",
       "      <td>Физика</td>\n",
       "      <td>24</td>\n",
       "    </tr>\n",
       "    <tr>\n",
       "      <th>2</th>\n",
       "      <td>Химия</td>\n",
       "      <td>105</td>\n",
       "    </tr>\n",
       "  </tbody>\n",
       "</table>\n",
       "</div>"
      ],
      "text/plain": [
       "      subject  user_id\n",
       "0  Математика       30\n",
       "1      Физика       24\n",
       "2       Химия      105"
      ]
     },
     "execution_count": 17,
     "metadata": {},
     "output_type": "execute_result"
    }
   ],
   "source": [
    "user_crs.groupby('subject', as_index=False).agg({'user_id': 'count'})\n"
   ]
  },
  {
   "cell_type": "markdown",
   "id": "d87b4850",
   "metadata": {},
   "source": [
    "### Задание 6"
   ]
  },
  {
   "cell_type": "markdown",
   "id": "4500b2c0",
   "metadata": {},
   "source": [
    "В курсах какого предмета больше всего учеников, достигших относительного прогресса не менее $0.8$?"
   ]
  }
 ],
 "metadata": {
  "kernelspec": {
   "display_name": "Python 3 (ipykernel)",
   "language": "python",
   "name": "python3"
  },
  "language_info": {
   "codemirror_mode": {
    "name": "ipython",
    "version": 3
   },
   "file_extension": ".py",
   "mimetype": "text/x-python",
   "name": "python",
   "nbconvert_exporter": "python",
   "pygments_lexer": "ipython3",
   "version": "3.11.1"
  }
 },
 "nbformat": 4,
 "nbformat_minor": 5
}
