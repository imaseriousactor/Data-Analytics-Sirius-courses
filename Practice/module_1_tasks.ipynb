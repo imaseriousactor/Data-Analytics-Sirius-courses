{
 "cells": [
  {
   "cell_type": "code",
   "execution_count": 24,
   "id": "aa892472",
   "metadata": {},
   "outputs": [],
   "source": [
    "def round_to_2(x):\n",
    "    \"\"\"\n",
    "    Принимает число и возвращает результат его округления\n",
    "    до двух знаков после запятой.\n",
    "    \n",
    "    Аргументы:\n",
    "        x: число.\n",
    "        \n",
    "    Возвращаемое значение:\n",
    "        результат округления числа до двух знаков после запятой.\n",
    "    \"\"\"\n",
    "    \n",
    "    return round(x, 2)"
   ]
  },
  {
   "cell_type": "code",
   "execution_count": 11,
   "id": "3a0717c2",
   "metadata": {},
   "outputs": [],
   "source": [
    "def custom_compare(x, y):\n",
    "    if str(x) != str(y):\n",
    "        raise RuntimeError(f'Ожидаемое значение: {y}. Фактическое: {x}')"
   ]
  },
  {
   "cell_type": "markdown",
   "id": "086542ed",
   "metadata": {},
   "source": [
    "# Разбиение строки по разделителю"
   ]
  },
  {
   "cell_type": "code",
   "execution_count": 25,
   "id": "5ccc3075",
   "metadata": {},
   "outputs": [],
   "source": [
    "def split_line(line, sep):\n",
    "    \"\"\"\n",
    "    Разбивает строку по разделителю, учитывая кавычки.\n",
    "    \n",
    "    Аргументы:\n",
    "        line: строка для разбиения\n",
    "        sep: разделитель (один символ, не двойная кавычка)\n",
    "        \n",
    "    Возвращает:\n",
    "        Список значений между разделителями, без кавычек\n",
    "    \"\"\"\n",
    "    if not line:\n",
    "        return ['']\n",
    "    \n",
    "    result = []\n",
    "    current = []\n",
    "    in_quotes = False\n",
    "    \n",
    "    i = 0\n",
    "    while i < len(line):\n",
    "        if line[i] == '\"':\n",
    "            if in_quotes:\n",
    "                # Закрывающая кавычка - завершаем текущее значение\n",
    "                in_quotes = False\n",
    "                i += 1\n",
    "            else:\n",
    "                # Открывающая кавычка - начинаем новое значение в кавычках\n",
    "                in_quotes = True\n",
    "                i += 1\n",
    "        elif line[i] == sep and not in_quotes:\n",
    "            # Добавляем текущее значение в результат\n",
    "            result.append(''.join(current))\n",
    "            current = []\n",
    "            i += 1\n",
    "        else:\n",
    "            # Добавляем символ к текущему значению\n",
    "            current.append(line[i])\n",
    "            i += 1\n",
    "    \n",
    "    # Добавляем последнее значение\n",
    "    result.append(''.join(current))\n",
    "    \n",
    "    return result"
   ]
  },
  {
   "cell_type": "code",
   "execution_count": 26,
   "id": "b81f3786",
   "metadata": {},
   "outputs": [],
   "source": [
    "def read_split_line_tests():\n",
    "    example_1_line = 'Александр Александрович Александров,,2005,11'\n",
    "    example_1_sep = ','\n",
    "    example_1_res = ['Александр Александрович Александров', '', '2005', '11']\n",
    "    \n",
    "    custom_compare(split_line(example_1_line, example_1_sep), example_1_res)\n",
    "    \n",
    "    example_2_line = 'Евгений Сергеевич Дёмин;;'\n",
    "    example_2_sep = ';'\n",
    "    example_2_res = ['Евгений Сергеевич Дёмин', '', '']\n",
    "    \n",
    "    custom_compare(split_line(example_2_line, example_2_sep), example_2_res)\n",
    "    \n",
    "    example_3_line = 'Анна Павловна Иванова,\"[запись 1, запись 2, запись 3]\", ,2'\n",
    "    example_3_sep = ','\n",
    "    example_3_res = ['Анна Павловна Иванова', '[запись 1, запись 2, запись 3]', ' ', '2']\n",
    "    \n",
    "    custom_compare(split_line(example_3_line, example_3_sep), example_3_res)\n",
    "    \n",
    "    print('Все тесты прошли успешно!')"
   ]
  },
  {
   "cell_type": "code",
   "execution_count": 27,
   "id": "d70a12d0",
   "metadata": {},
   "outputs": [
    {
     "name": "stdout",
     "output_type": "stream",
     "text": [
      "Все тесты прошли успешно!\n"
     ]
    }
   ],
   "source": [
    "read_split_line_tests()"
   ]
  },
  {
   "cell_type": "markdown",
   "id": "b3e43ed2",
   "metadata": {},
   "source": [
    "# Чтение csv-файла"
   ]
  },
  {
   "cell_type": "code",
   "execution_count": 28,
   "id": "4b3a7c63",
   "metadata": {},
   "outputs": [],
   "source": [
    "def read_csv_and_calc_mean(lines, sep, column_name):\n",
    "    \"\"\"\n",
    "    Принимает список строк из csv-файла и возвращает среднее значение в заданной колонке.\n",
    "    Гарантируется, что в первой строке csv-файла всегда представлены названия его колонок.\n",
    "    \n",
    "    Аргументы:\n",
    "        lines: список строк, прочитанных из csv-файла.\n",
    "        sep: разделитель, который используется в строках для отделения различных значений.\n",
    "        column_name: название колонки с целочисленными значениями, по которой нужно посчитать среднее.\n",
    "        \n",
    "    Возвращаемое значение:\n",
    "        среднее значение в заданной колонке, округлённое до двух знаков\n",
    "        после запятой с помощью функции round_to_2.\n",
    "    \"\"\"\n",
    "    names = split_line(lines[0], sep)\n",
    "    column = 0\n",
    "    for i in range(len(names)):\n",
    "        if names[i] == column_name:\n",
    "            column = i\n",
    "            break\n",
    "    sm = 0\n",
    "    for i in range(1, len(lines)):\n",
    "        names = split_line(lines[i], sep)\n",
    "        sm+=int(names[column])\n",
    "    return round_to_2(sm/(len(lines)-1))\n",
    "    \n",
    "    pass"
   ]
  },
  {
   "cell_type": "code",
   "execution_count": 29,
   "id": "b8a47b00",
   "metadata": {},
   "outputs": [],
   "source": [
    "def read_csv_and_calc_mean_tests():\n",
    "    example_1_lines = [\n",
    "        'id,ФИО,Возраст,Город',\n",
    "        '1,Петров Пётр Петрович,21,Москва',\n",
    "        '2,Марьина Марина Леонидовна,18,Новороссийск',\n",
    "        '3,Иванова Елена Ивановна,34,Пермь'\n",
    "    ]\n",
    "    example_1_sep = ','\n",
    "    example_1_column = 'Возраст'\n",
    "    example_1_res = 24.33\n",
    "    \n",
    "    custom_compare(read_csv_and_calc_mean(example_1_lines, example_1_sep, example_1_column), example_1_res)\n",
    "    \n",
    "    example_2_lines = [\n",
    "        'Число реакций,id записи',\n",
    "        '234,1',\n",
    "        '361,2',\n",
    "        '177,3',\n",
    "        '32,4',\n",
    "        '670,5'\n",
    "    ]\n",
    "    example_2_sep = ','\n",
    "    example_2_column = 'Число реакций'\n",
    "    example_2_res = 294.8\n",
    "    \n",
    "    custom_compare(read_csv_and_calc_mean(example_2_lines, example_2_sep, example_2_column), example_2_res)\n",
    "    \n",
    "    print('Все тесты прошли успешно!')"
   ]
  },
  {
   "cell_type": "code",
   "execution_count": 30,
   "id": "25932d5e",
   "metadata": {},
   "outputs": [
    {
     "name": "stdout",
     "output_type": "stream",
     "text": [
      "Все тесты прошли успешно!\n"
     ]
    }
   ],
   "source": [
    "read_csv_and_calc_mean_tests()"
   ]
  },
  {
   "cell_type": "code",
   "execution_count": null,
   "id": "06e30968-71d9-4702-b5eb-0bbc5f079339",
   "metadata": {},
   "outputs": [],
   "source": []
  }
 ],
 "metadata": {
  "kernelspec": {
   "display_name": "Python 3 (ipykernel)",
   "language": "python",
   "name": "python3"
  },
  "language_info": {
   "codemirror_mode": {
    "name": "ipython",
    "version": 3
   },
   "file_extension": ".py",
   "mimetype": "text/x-python",
   "name": "python",
   "nbconvert_exporter": "python",
   "pygments_lexer": "ipython3",
   "version": "3.11.1"
  }
 },
 "nbformat": 4,
 "nbformat_minor": 5
}
